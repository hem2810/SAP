{
 "cells": [
  {
   "cell_type": "markdown",
   "id": "99b440ea",
   "metadata": {},
   "source": [
    "# basic tkinter"
   ]
  },
  {
   "cell_type": "code",
   "execution_count": 4,
   "id": "bc400e6f",
   "metadata": {},
   "outputs": [],
   "source": [
    "import tkinter as tk\n",
    "import numpy as np\n",
    "window=tk.Tk()\n",
    "tk.mainloop()"
   ]
  },
  {
   "cell_type": "markdown",
   "id": "0cbc32bc",
   "metadata": {},
   "source": [
    "# create label"
   ]
  },
  {
   "cell_type": "code",
   "execution_count": 6,
   "id": "f6fd0073",
   "metadata": {},
   "outputs": [],
   "source": [
    "my_GUI=tk.Tk()\n",
    "(label1=tk.Label(my_GUI,text=\"Hello\")\n",
    "label1.grid()\n",
    "tk.mainloop()"
   ]
  },
  {
   "cell_type": "markdown",
   "id": "2de2b909",
   "metadata": {},
   "source": [
    "# create button entry"
   ]
  },
  {
   "cell_type": "code",
   "execution_count": 12,
   "id": "dd2341f0",
   "metadata": {},
   "outputs": [],
   "source": [
    "r=tk.Tk()\n",
    "r.title('Counting Seconds')\n",
    "button=tk.Button(r, text='stop',width=25,command=r.destroy)\n",
    "button.pack()\n",
    "r.mainloop()\n"
   ]
  },
  {
   "cell_type": "code",
   "execution_count": 15,
   "id": "15153d92",
   "metadata": {},
   "outputs": [
    {
     "name": "stdout",
     "output_type": "stream",
     "text": [
      "\n"
     ]
    }
   ],
   "source": [
    "window=tk.Tk()\n",
    "x1=tk.StringVar()\n",
    "tk.Entry(window,textvariable=x1).pack()\n",
    "tk.mainloop()\n",
    "print(x1.get())"
   ]
  },
  {
   "cell_type": "code",
   "execution_count": 16,
   "id": "d62cf6b8",
   "metadata": {},
   "outputs": [],
   "source": [
    "from tkinter import *\n",
    "master = Tk()\n",
    "w = Canvas(master, width=40, height=60)\n",
    "w.pack()\n",
    "canvas_height=20\n",
    "canvas_width=200\n",
    "y = int(canvas_height / 2)\n",
    "w.create_line(0, y, canvas_width, y )\n",
    "mainloop()"
   ]
  },
  {
   "cell_type": "code",
   "execution_count": 21,
   "id": "ca5eab43",
   "metadata": {},
   "outputs": [],
   "source": [
    "from tkinter import *\n",
    "master = Tk()\n",
    "var1 = IntVar()\n",
    "Checkbutton(master, text='male', variable=var1).grid(row=0, sticky=W)\n",
    "var2 = IntVar()\n",
    "Checkbutton(master, text='female', variable=var2).grid(row=1, sticky=W)\n",
    "mainloop()"
   ]
  },
  {
   "cell_type": "code",
   "execution_count": 23,
   "id": "4de134ee",
   "metadata": {},
   "outputs": [],
   "source": [
    "from tkinter import *\n",
    "root = Tk()\n",
    "frame = Frame(root)\n",
    "frame.pack()\n",
    "bottomframe = Frame(root)\n",
    "bottomframe.pack( side = BOTTOM )\n",
    "redbutton = Button(frame, text = 'Red', fg ='red')\n",
    "redbutton.pack( side = LEFT)\n",
    "greenbutton = Button(frame, text = 'Brown', fg='brown')\n",
    "greenbutton.pack( side = LEFT )\n",
    "bluebutton = Button(frame, text ='Blue', fg ='blue')\n",
    "bluebutton.pack( side = LEFT )\n",
    "blackbutton = Button(bottomframe, text ='Black', fg ='black')\n",
    "blackbutton.pack( side = BOTTOM)\n",
    "root.mainloop()"
   ]
  },
  {
   "cell_type": "markdown",
   "id": "0c1c81da",
   "metadata": {},
   "source": [
    "https://www.activestate.com/resources/quick-reads/how-to-add-images-in-tkinter/"
   ]
  },
  {
   "cell_type": "markdown",
   "id": "99514792",
   "metadata": {},
   "source": [
    "https://www.geeksforgeeks.org/python-gui-tkinter/"
   ]
  },
  {
   "cell_type": "code",
   "execution_count": null,
   "id": "3410f082",
   "metadata": {},
   "outputs": [],
   "source": []
  }
 ],
 "metadata": {
  "kernelspec": {
   "display_name": "Python 3 (ipykernel)",
   "language": "python",
   "name": "python3"
  },
  "language_info": {
   "codemirror_mode": {
    "name": "ipython",
    "version": 3
   },
   "file_extension": ".py",
   "mimetype": "text/x-python",
   "name": "python",
   "nbconvert_exporter": "python",
   "pygments_lexer": "ipython3",
   "version": "3.9.12"
  }
 },
 "nbformat": 4,
 "nbformat_minor": 5
}
