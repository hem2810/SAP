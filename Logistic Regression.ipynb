{
 "cells": [
  {
   "cell_type": "markdown",
   "id": "732f76d6",
   "metadata": {},
   "source": [
    "# Importing essential libraries"
   ]
  },
  {
   "cell_type": "code",
   "execution_count": 2,
   "id": "1e447fa0",
   "metadata": {},
   "outputs": [],
   "source": [
    "import matplotlib.pyplot as plt\n",
    "from sklearn.datasets import make_classification\n",
    "from sklearn.model_selection import train_test_split\n",
    "from sklearn.linear_model import LogisticRegression\n",
    "from sklearn.metrics import roc_curve\n",
    "from sklearn.metrics import roc_auc_score"
   ]
  },
  {
   "cell_type": "markdown",
   "id": "8f5f03f4",
   "metadata": {},
   "source": [
    "###### Generate two class dataset"
   ]
  },
  {
   "cell_type": "code",
   "execution_count": 12,
   "id": "4e74f19e",
   "metadata": {},
   "outputs": [],
   "source": [
    "X, y = make_classification(n_samples=1000, n_classes=2, n_features=20, random_state=27)"
   ]
  },
  {
   "cell_type": "markdown",
   "id": "5ea81709",
   "metadata": {},
   "source": [
    "###### Split into train-test sets"
   ]
  },
  {
   "cell_type": "code",
   "execution_count": 4,
   "id": "8f289895",
   "metadata": {},
   "outputs": [],
   "source": [
    "X_train, X_test, y_train, y_test = train_test_split(X, y, test_size=0.3, random_state=27)"
   ]
  },
  {
   "cell_type": "markdown",
   "id": "abfd8356",
   "metadata": {},
   "source": [
    "###### Train models"
   ]
  },
  {
   "cell_type": "code",
   "execution_count": 5,
   "id": "3a77cbe1",
   "metadata": {},
   "outputs": [],
   "source": [
    "model = LogisticRegression()"
   ]
  },
  {
   "cell_type": "markdown",
   "id": "03f455a2",
   "metadata": {},
   "source": [
    "###### Fit model (Normalization and Scaling)"
   ]
  },
  {
   "cell_type": "code",
   "execution_count": 6,
   "id": "df1a22ee",
   "metadata": {},
   "outputs": [
    {
     "data": {
      "text/plain": [
       "LogisticRegression()"
      ]
     },
     "execution_count": 6,
     "metadata": {},
     "output_type": "execute_result"
    }
   ],
   "source": [
    "model.fit(X_train, y_train)"
   ]
  },
  {
   "cell_type": "markdown",
   "id": "ca158d86",
   "metadata": {},
   "source": [
    "###### Predict probabilities"
   ]
  },
  {
   "cell_type": "code",
   "execution_count": 7,
   "id": "86058968",
   "metadata": {},
   "outputs": [],
   "source": [
    "pred_prob = model.predict_proba(X_test)"
   ]
  },
  {
   "cell_type": "markdown",
   "id": "32582f58",
   "metadata": {},
   "source": [
    "###### AUC_ROC curve for models"
   ]
  },
  {
   "cell_type": "code",
   "execution_count": 8,
   "id": "618b0a0f",
   "metadata": {},
   "outputs": [],
   "source": [
    "fpr, tpr, thresh = roc_curve(y_test, pred_prob[:,1], pos_label=1)\n",
    "\n",
    "# roc curve for tpr = fpr \n",
    "\n",
    "random_probs = [0 for i in range(len(y_test))]\n",
    "p_fpr, p_tpr, _ = roc_curve(y_test, random_probs, pos_label=1)"
   ]
  },
  {
   "cell_type": "markdown",
   "id": "22c352dc",
   "metadata": {},
   "source": [
    "###### AUC Score"
   ]
  },
  {
   "cell_type": "code",
   "execution_count": 9,
   "id": "c3124fcc",
   "metadata": {},
   "outputs": [
    {
     "name": "stdout",
     "output_type": "stream",
     "text": [
      "AUC score =  0.9762374461979914\n"
     ]
    }
   ],
   "source": [
    "auc_score = roc_auc_score(y_test, pred_prob[:,1])\n",
    "print(\"AUC score = \", auc_score)"
   ]
  },
  {
   "cell_type": "markdown",
   "id": "f3ad38b4",
   "metadata": {},
   "source": [
    "###### Plot AUC_ROC curve"
   ]
  },
  {
   "cell_type": "code",
   "execution_count": 11,
   "id": "5d8e6012",
   "metadata": {},
   "outputs": [
    {
     "data": {
      "image/png": "[encoded data removed]",
      "text/plain": [
       "<Figure size 576x396 with 1 Axes>"
      ]
     },
     "metadata": {},
     "output_type": "display_data"
    }
   ],
   "source": [
    "plt.style.use('seaborn')\n",
    "\n",
    "\n",
    "plt.plot(fpr, tpr, linestyle='--',color='orange', label='Logistic Regression')\n",
    "plt.plot(p_fpr, p_tpr, linestyle='--', color='blue')\n",
    "\n",
    "# title\n",
    "plt.title('AUC_ROC curve')\n",
    "\n",
    "# x label\n",
    "plt.xlabel('False Positive Rate')\n",
    "# y label\n",
    "plt.ylabel('True Positive rate')\n",
    "\n",
    "plt.legend(loc='best')\n",
    "plt.savefig('ROC',dpi=300)\n",
    "plt.show();\n"
   ]
  }
 ],
 "metadata": {
  "kernelspec": {
   "display_name": "Python 3 (ipykernel)",
   "language": "python",
   "name": "python3"
  },
  "language_info": {
   "codemirror_mode": {
    "name": "ipython",
    "version": 3
   },
   "file_extension": ".py",
   "mimetype": "text/x-python",
   "name": "python",
   "nbconvert_exporter": "python",
   "pygments_lexer": "ipython3",
   "version": "3.9.7"
  }
 },
 "nbformat": 4,
 "nbformat_minor": 5
}
